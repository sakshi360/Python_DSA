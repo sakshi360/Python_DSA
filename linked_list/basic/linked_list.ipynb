{
 "cells": [
  {
   "cell_type": "markdown",
   "metadata": {},
   "source": [
    "# Linked List"
   ]
  },
  {
   "attachments": {
    "image.png": {
     "image/png": "[encoded data removed]"
    }
   },
   "cell_type": "markdown",
   "metadata": {},
   "source": [
    "Linked list is a colection or group of nodes. Each node contains data and reference(pointer) which contains address of next node. It is a linear data structure. Elements are stored randomly in memory.![image.png](attachment:image.png)"
   ]
  },
  {
   "attachments": {
    "image.png": {
     "image/png": "[encoded data removed]"
    }
   },
   "cell_type": "markdown",
   "metadata": {},
   "source": [
    "1. Singly-Linked List: It is a very simple type of Linked List with a linear structure with a data section and a next section.\n",
    "\n",
    "\n",
    "2. Doubly Linked List: Doubly linked list contains one extra part than the singly linked list, that is, the previous section along with data and the next.It can be traversed in both directions i.e forward as well as backward.\n",
    "\n",
    "For Example:\n",
    "![image.png](attachment:image.png)\n"
   ]
  },
  {
   "cell_type": "markdown",
   "metadata": {},
   "source": [
    "# Creating a node in singly linked list"
   ]
  },
  {
   "cell_type": "code",
   "execution_count": 1,
   "metadata": {},
   "outputs": [],
   "source": [
    "class Node:\n",
    "    def __init__(self,data):\n",
    "        self.data=data\n",
    "        self.next=None\n"
   ]
  },
  {
   "cell_type": "code",
   "execution_count": 2,
   "metadata": {},
   "outputs": [
    {
     "name": "stdout",
     "output_type": "stream",
     "text": [
      "7\n",
      "None\n"
     ]
    }
   ],
   "source": [
    "node1=Node(7)\n",
    "print(node1.data)\n",
    "print(node1.next)"
   ]
  },
  {
   "cell_type": "markdown",
   "metadata": {},
   "source": [
    "# create a singly linked list"
   ]
  },
  {
   "cell_type": "code",
   "execution_count": 3,
   "metadata": {},
   "outputs": [],
   "source": [
    "class SinglyLL:\n",
    "    def __init__(self):\n",
    "        self.head=None\n",
    "sll=SinglyLL()"
   ]
  },
  {
   "cell_type": "markdown",
   "metadata": {},
   "source": [
    "# Traversal, Insertion and Deletion in  Singly linked list"
   ]
  },
  {
   "cell_type": "code",
   "execution_count": 4,
   "metadata": {},
   "outputs": [
    {
     "name": "stdout",
     "output_type": "stream",
     "text": [
      "6 10 4 None\n",
      "11 6 10 4 None\n",
      "11 6 10 4 8 None\n",
      "11 6 13 10 4 8 None\n",
      "6 13 10 4 8 None\n",
      "6 13 10 4 None\n",
      "6 13 4 None\n"
     ]
    }
   ],
   "source": [
    "class Node:\n",
    "    def __init__(self,data):\n",
    "        self.data=data\n",
    "        self.next=None\n",
    "        \n",
    "class Sll:\n",
    "    def __init__(self):\n",
    "        self.head=None\n",
    "    \n",
    "    def traversal(self):\n",
    "        if self.head is None:\n",
    "            print(\"linked list is empty\")\n",
    "        else:\n",
    "            a=self.head\n",
    "            while a is not None:\n",
    "                print(a.data,end=\" \")\n",
    "                a=a.next\n",
    "                \n",
    "    #tc: O(1) sc: O(1)\n",
    "    def insert_at_beginning(self,data):\n",
    "        nb=Node(data)\n",
    "        nb.next=self.head\n",
    "        self.head=nb\n",
    "    \n",
    "    #tc: O(N) sc: O(1)\n",
    "    def insert_at_end(self,data):\n",
    "        ne=Node(data)\n",
    "        a=self.head\n",
    "        while a.next is not None:\n",
    "            a=a.next\n",
    "        a.next=ne\n",
    "    \n",
    "    def insert_at_specified_node(self,data,position):\n",
    "        ns=Node(data)\n",
    "        a=self.head\n",
    "        for i in range(1,position-1):\n",
    "            a=a.next\n",
    "        ns.next=a.next \n",
    "        a.next=ns\n",
    "    \n",
    "    def deletion_at_beginning(self):\n",
    "        a=self.head\n",
    "        self.head=a.next\n",
    "        a.next=None\n",
    "        \n",
    "    \n",
    "    def deletion_at_end(self):\n",
    "        prev=self.head\n",
    "        a=self.head.next\n",
    "        while a.next is not None:\n",
    "            a=a.next\n",
    "            prev=prev.next\n",
    "        prev.next=None\n",
    "        \n",
    "    \n",
    "    def deletion_at_specified_end(self,position):\n",
    "        prev=self.head\n",
    "        a=self.head.next\n",
    "        for i in range(1,position-1):\n",
    "            a=a.next\n",
    "            prev=prev.next\n",
    "        prev.next=a.next\n",
    "        a.next=None\n",
    "    \n",
    "        \n",
    "        \n",
    "sll=Sll()\n",
    "n1=Node(6)\n",
    "sll.head=n1\n",
    "n2=Node(10)\n",
    "n1.next=n2\n",
    "n3=Node(4)\n",
    "n2.next=n3\n",
    "\n",
    "print(sll.traversal())\n",
    "\n",
    "sll.insert_at_beginning(11)\n",
    "print(sll.traversal())\n",
    "\n",
    "sll.insert_at_end(8)\n",
    "print(sll.traversal())\n",
    "\n",
    "sll.insert_at_specified_node(13,3)\n",
    "print(sll.traversal())\n",
    "\n",
    "sll.deletion_at_beginning()\n",
    "print(sll.traversal())\n",
    "\n",
    "sll.deletion_at_end()\n",
    "print(sll.traversal())\n",
    "\n",
    "sll.deletion_at_specified_end(3)\n",
    "print(sll.traversal())\n"
   ]
  },
  {
   "cell_type": "markdown",
   "metadata": {},
   "source": [
    "# Doubly linked list traversal, insertion and deletion"
   ]
  },
  {
   "cell_type": "code",
   "execution_count": 5,
   "metadata": {},
   "outputs": [
    {
     "name": "stdout",
     "output_type": "stream",
     "text": [
      "6 10 4 None\n",
      "4 10 6 None\n",
      "7 6 10 4 None\n",
      "7 6 10 4 3 None\n",
      "7 6 13 10 4 3 None\n",
      "6 13 10 4 3 None\n",
      "6 13 10 4 None\n",
      "6 13 4 None\n"
     ]
    }
   ],
   "source": [
    "class Node:\n",
    "    def __init__(self,data):\n",
    "        self.data=data\n",
    "        self.prev=None\n",
    "        self.next=None\n",
    "        \n",
    "class Dll:\n",
    "    def __init__(self):\n",
    "        self.head=None\n",
    "        \n",
    "    def forward_traversal(self):\n",
    "        if self.head is None:\n",
    "            print(\"doubly linked list is empty\")\n",
    "        else:\n",
    "            a=self.head\n",
    "            while a is not None:\n",
    "                print(a.data,end=\" \")\n",
    "                a=a.next\n",
    "    \n",
    "    def backward_traversal(self):\n",
    "        if self.head is None:\n",
    "            print(\"doubly linked list is empty\")\n",
    "        else:\n",
    "            a=self.head\n",
    "            while a.next is not None:\n",
    "                a=a.next\n",
    "            while a is not None:\n",
    "                print(a.data,end=\" \")\n",
    "                a=a.prev\n",
    "                \n",
    "    def insert_at_beginning(self,data):\n",
    "        nb=Node(data)\n",
    "        a=self.head\n",
    "        nb.next=a\n",
    "        a.prev=nb\n",
    "        self.head=nb\n",
    "        \n",
    "    def insert_at_end(self,data):\n",
    "        ne=Node(data)\n",
    "        a=self.head\n",
    "        while a.next is not None:\n",
    "            a=a.next\n",
    "        a.next=ne\n",
    "        ne.prev=a\n",
    "        \n",
    "    \n",
    "    def insert_at_specified_node(self,data,position):\n",
    "        ns=Node(data)\n",
    "        a=self.head\n",
    "        for i in range(1,position-1):\n",
    "            a=a.next\n",
    "        ns.next=a.next \n",
    "        a.next.prev=ns\n",
    "        a.next=ns\n",
    "        ns.prev=a\n",
    "        \n",
    "    \n",
    "    def deletion_at_beginning(self):\n",
    "        a=self.head\n",
    "        self.head=a.next\n",
    "        a.next=None\n",
    "        self.head.prev=None\n",
    "    \n",
    "    def deletion_at_end(self):\n",
    "        a=self.head.next\n",
    "        bfr=self.head\n",
    "        while a.next is not None:\n",
    "            a=a.next\n",
    "            bfr=bfr.next\n",
    "        bfr.next=None\n",
    "        a.prev=None\n",
    "        \n",
    "    def deletion_at_specified_end(self,position):\n",
    "        bfr=self.head\n",
    "        a=self.head.next\n",
    "        for i in range(1,position-1):\n",
    "            a=a.next\n",
    "            bfr=bfr.next\n",
    "        bfr.next=a.next\n",
    "        a.next.prev=bfr\n",
    "        a.next=None\n",
    "        a.prev=None\n",
    "        \n",
    "\n",
    "\n",
    "dll=Dll()\n",
    "n1=Node(6)\n",
    "dll.head=n1\n",
    "n2=Node(10)\n",
    "n1.next=n2\n",
    "n2.prev=n1\n",
    "n3=Node(4)\n",
    "n2.next=n3\n",
    "n3.prev=n2\n",
    "    \n",
    "print(dll.forward_traversal())\n",
    "print(dll.backward_traversal())\n",
    "\n",
    "dll.insert_at_beginning(7)\n",
    "print(dll.forward_traversal())\n",
    "\n",
    "dll.insert_at_end(3)\n",
    "print(dll.forward_traversal())\n",
    "\n",
    "\n",
    "dll.insert_at_specified_node(13,3)\n",
    "print(dll.forward_traversal())\n",
    "\n",
    "dll.deletion_at_beginning()\n",
    "print(dll.forward_traversal())\n",
    "\n",
    "\n",
    "dll.deletion_at_end()\n",
    "print(dll.forward_traversal())\n",
    "\n",
    "dll.deletion_at_specified_end(3)\n",
    "print(dll.forward_traversal())\n"
   ]
  },
  {
   "cell_type": "code",
   "execution_count": null,
   "metadata": {},
   "outputs": [],
   "source": []
  }
 ],
 "metadata": {
  "kernelspec": {
   "display_name": "Python 3",
   "language": "python",
   "name": "python3"
  },
  "language_info": {
   "codemirror_mode": {
    "name": "ipython",
    "version": 3
   },
   "file_extension": ".py",
   "mimetype": "text/x-python",
   "name": "python",
   "nbconvert_exporter": "python",
   "pygments_lexer": "ipython3",
   "version": "3.8.3"
  }
 },
 "nbformat": 4,
 "nbformat_minor": 4
}
